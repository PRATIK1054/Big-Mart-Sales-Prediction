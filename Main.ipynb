{
 "cells": [
  {
   "cell_type": "code",
   "execution_count": null,
   "id": "ff8e7511",
   "metadata": {},
   "outputs": [
    {
     "ename": "",
     "evalue": "",
     "output_type": "error",
     "traceback": [
      "\u001b[1;31mRunning cells with 'BMenv (Python 3.12.7)' requires the ipykernel package.\n",
      "\u001b[1;31mInstall 'ipykernel' into the Python environment. \n",
      "\u001b[1;31mCommand: '\"c:/Python Project_2/BMenv/Scripts/python.exe\" -m pip install ipykernel -U --force-reinstall'"
     ]
    }
   ],
   "source": [
    "import numpy as np\n",
    "import pandas as pd\n",
    "import matplotlib.pyplot as plt\n",
    "import seaborn as sns\n",
    "from sklearn.preprocessing import LabelEncoder\n",
    "from sklearn.model_selection import train_test_split\n",
    "from xgboost import XGBRegressor\n",
    "from sklearn import metrics"
   ]
  },
  {
   "cell_type": "markdown",
   "id": "2b2f7552",
   "metadata": {},
   "source": [
    "Data Collection & Analysis"
   ]
  },
  {
   "cell_type": "code",
   "execution_count": null,
   "id": "a01683f6",
   "metadata": {},
   "outputs": [],
   "source": [
    "#Loading the dataset from csv file to Pandas Dataframe\n",
    "\n",
    "big_mart_data = pd.read_csv('C:\\Python Project_2\\Data\\Train_UWu5bXk.csv')\n",
    "big_mart_data.head()"
   ]
  },
  {
   "cell_type": "code",
   "execution_count": null,
   "id": "377fb5bb",
   "metadata": {},
   "outputs": [],
   "source": [
    "# Number of data points and number of featurers\n",
    "big_mart_data.shape"
   ]
  },
  {
   "cell_type": "code",
   "execution_count": null,
   "id": "a8242f89",
   "metadata": {},
   "outputs": [],
   "source": [
    "# Getting some information about the dataset\n",
    "big_mart_data.info()"
   ]
  },
  {
   "cell_type": "markdown",
   "id": "15910353",
   "metadata": {},
   "source": [
    "Categorical Features:\n",
    "- Item_Identifier \n",
    "- Item_Fat_Content \n",
    "- Item_Type   \n",
    "- Outlet_Identifier \n",
    "- Outlet_Size\n",
    "- Outlet_Location_Type\n",
    "- Outlet_Type"
   ]
  },
  {
   "cell_type": "code",
   "execution_count": null,
   "id": "36837b9b",
   "metadata": {},
   "outputs": [],
   "source": [
    "# Checking for missing values\n",
    "big_mart_data.isnull().sum()"
   ]
  },
  {
   "cell_type": "markdown",
   "id": "06d6cdc9",
   "metadata": {},
   "source": [
    "Handling Missing Values"
   ]
  },
  {
   "cell_type": "markdown",
   "id": "bca2ad67",
   "metadata": {},
   "source": [
    "Mean-> average value,\n",
    "Mode-> most repeated value"
   ]
  },
  {
   "cell_type": "code",
   "execution_count": null,
   "id": "707b25bb",
   "metadata": {},
   "outputs": [],
   "source": [
    "# Mean value of 'item_wight' column\n",
    "big_mart_data['Item_Weight'].mean()"
   ]
  },
  {
   "cell_type": "code",
   "execution_count": null,
   "id": "7a00dffc",
   "metadata": {},
   "outputs": [],
   "source": [
    "# Filling the missing values in 'Item_Weight' column with 'Mean' value\n",
    "big_mart_data['Item_Weight'].fillna(big_mart_data['Item_Weight'].mean(), inplace = True)"
   ]
  },
  {
   "cell_type": "code",
   "execution_count": null,
   "id": "92ea837e",
   "metadata": {},
   "outputs": [],
   "source": [
    "# Checking for missing values\n",
    "big_mart_data.isnull().sum()"
   ]
  },
  {
   "cell_type": "markdown",
   "id": "ddf1beed",
   "metadata": {},
   "source": [
    "Replacing the missing values in 'Outlet_Size' with mode"
   ]
  },
  {
   "cell_type": "code",
   "execution_count": null,
   "id": "167542e4",
   "metadata": {},
   "outputs": [],
   "source": [
    "mode_of_outlet_size = big_mart_data.pivot_table(\n",
    "    values='Outlet_Size',\n",
    "    columns='Outlet_Type',  \n",
    "    aggfunc=lambda x: x.mode()[0] \n",
    ")"
   ]
  },
  {
   "cell_type": "code",
   "execution_count": null,
   "id": "56d6e0e4",
   "metadata": {},
   "outputs": [],
   "source": [
    "mode_outlet_size = big_mart_data['Outlet_Size'].mode()[0]\n",
    "big_mart_data['Outlet_Size'].fillna(mode_outlet_size, inplace=True)"
   ]
  },
  {
   "cell_type": "code",
   "execution_count": null,
   "id": "42eb51ce",
   "metadata": {},
   "outputs": [],
   "source": [
    "print(mode_of_outlet_size)"
   ]
  },
  {
   "cell_type": "code",
   "execution_count": null,
   "id": "4c2b633f",
   "metadata": {},
   "outputs": [],
   "source": [
    "missing_values = big_mart_data['Outlet_Size'].isnull()"
   ]
  },
  {
   "cell_type": "code",
   "execution_count": null,
   "id": "97f3f311",
   "metadata": {},
   "outputs": [],
   "source": [
    "print(missing_values)"
   ]
  },
  {
   "cell_type": "code",
   "execution_count": null,
   "id": "37254eb2",
   "metadata": {},
   "outputs": [],
   "source": [
    "big_mart_data.isnull().sum()"
   ]
  },
  {
   "cell_type": "markdown",
   "id": "c7346b55",
   "metadata": {},
   "source": [
    "Data Analysis"
   ]
  },
  {
   "cell_type": "code",
   "execution_count": null,
   "id": "a731a76a",
   "metadata": {},
   "outputs": [],
   "source": [
    "# Statistical Measures about the data\n",
    "big_mart_data.describe()"
   ]
  },
  {
   "cell_type": "markdown",
   "id": "2732eca5",
   "metadata": {},
   "source": [
    "Numberical Features"
   ]
  },
  {
   "cell_type": "code",
   "execution_count": null,
   "id": "e83e1de0",
   "metadata": {},
   "outputs": [],
   "source": [
    "sns.set()"
   ]
  },
  {
   "cell_type": "code",
   "execution_count": null,
   "id": "43feb2a5",
   "metadata": {},
   "outputs": [],
   "source": [
    "# Item_Weight diestribution\n",
    "plt.figure(figsize = (6,6))\n",
    "sns.displot(big_mart_data['Item_Weight'])\n",
    "plt.show()"
   ]
  },
  {
   "cell_type": "code",
   "execution_count": null,
   "id": "722e0f16",
   "metadata": {},
   "outputs": [],
   "source": [
    "# Item_Visibility diestribution\n",
    "plt.figure(figsize = (6,6))\n",
    "sns.displot(big_mart_data['Item_Visibility'])\n",
    "plt.show()"
   ]
  },
  {
   "cell_type": "code",
   "execution_count": null,
   "id": "5935aca1",
   "metadata": {},
   "outputs": [],
   "source": [
    "# Item_MRP diestribution\n",
    "plt.figure(figsize = (6,6))\n",
    "sns.displot(big_mart_data['Item_MRP'])\n",
    "plt.show()"
   ]
  },
  {
   "cell_type": "code",
   "execution_count": null,
   "id": "0e6bb625",
   "metadata": {},
   "outputs": [],
   "source": [
    "# Item_Outlet_Sales diestribution\n",
    "plt.figure(figsize = (6,6))\n",
    "sns.displot(big_mart_data['Item_Outlet_Sales'])\n",
    "plt.show()"
   ]
  },
  {
   "cell_type": "code",
   "execution_count": null,
   "id": "6bee2c3c",
   "metadata": {},
   "outputs": [],
   "source": [
    "# Outlet_Establishment_Year\n",
    "plt.figure(figsize = (6,6))\n",
    "sns.countplot(x = 'Outlet_Establishment_Year',data = big_mart_data)\n",
    "plt.show()"
   ]
  },
  {
   "cell_type": "markdown",
   "id": "46f1cec4",
   "metadata": {},
   "source": [
    "Categorical Features"
   ]
  },
  {
   "cell_type": "code",
   "execution_count": null,
   "id": "a7441452",
   "metadata": {},
   "outputs": [],
   "source": [
    "# Item_Fat_Content \n",
    "plt.figure(figsize = (12,6))\n",
    "sns.countplot(x = 'Item_Fat_Content',data = big_mart_data)\n",
    "plt.show()"
   ]
  },
  {
   "cell_type": "code",
   "execution_count": null,
   "id": "40b614a9",
   "metadata": {},
   "outputs": [],
   "source": [
    "# Item_Type \n",
    "plt.figure(figsize = (20,6))\n",
    "sns.countplot(x = 'Item_Type',data = big_mart_data)\n",
    "plt.show()"
   ]
  },
  {
   "cell_type": "code",
   "execution_count": null,
   "id": "e6556a2e",
   "metadata": {},
   "outputs": [],
   "source": [
    "# Outlet_Size column\n",
    "plt.Figure(figsize = (6,6)) \n",
    "sns.countplot(x = 'Outlet_Size',data = big_mart_data)\n",
    "plt.title('Outlet Size')\n",
    "plt.show()"
   ]
  },
  {
   "cell_type": "markdown",
   "id": "0efa643e",
   "metadata": {},
   "source": [
    "Data Pre-Processing\n"
   ]
  },
  {
   "cell_type": "code",
   "execution_count": null,
   "id": "6e37d1ee",
   "metadata": {},
   "outputs": [],
   "source": [
    "big_mart_data['Item_Fat_Content'].value_counts()"
   ]
  },
  {
   "cell_type": "code",
   "execution_count": null,
   "id": "dd2a309c",
   "metadata": {},
   "outputs": [],
   "source": [
    "big_mart_data.replace({'Item_Fat_Content': {'low fat': 'Low Fat','LF': 'Low Fat', 'reg': 'Regular'}}, inplace=True) "
   ]
  },
  {
   "cell_type": "code",
   "execution_count": null,
   "id": "9bf4c589",
   "metadata": {},
   "outputs": [],
   "source": [
    "big_mart_data['Item_Fat_Content'].value_counts()"
   ]
  },
  {
   "cell_type": "markdown",
   "id": "53f1a326",
   "metadata": {},
   "source": [
    "Label Encoding"
   ]
  },
  {
   "cell_type": "code",
   "execution_count": null,
   "id": "6c1fe459",
   "metadata": {},
   "outputs": [],
   "source": [
    "encoder  = LabelEncoder()"
   ]
  },
  {
   "cell_type": "code",
   "execution_count": null,
   "id": "aace08c7",
   "metadata": {},
   "outputs": [],
   "source": [
    "big_mart_data['Item_Identifier'] = encoder.fit_transform(big_mart_data['Item_Identifier'])\n",
    "big_mart_data['Item_Fat_Content'] = encoder.fit_transform(big_mart_data['Item_Fat_Content'])\n",
    "big_mart_data['Item_Type'] = encoder.fit_transform(big_mart_data['Item_Type'])\n",
    "big_mart_data['Outlet_Identifier'] = encoder.fit_transform(big_mart_data['Outlet_Identifier'])\n",
    "big_mart_data['Outlet_Size'] = encoder.fit_transform(big_mart_data['Outlet_Size'])\n",
    "big_mart_data['Outlet_Location_Type'] = encoder.fit_transform(big_mart_data['Outlet_Location_Type'])\n",
    "big_mart_data['Outlet_Type'] = encoder.fit_transform(big_mart_data['Outlet_Type'])\n"
   ]
  },
  {
   "cell_type": "code",
   "execution_count": null,
   "id": "af8d38a1",
   "metadata": {},
   "outputs": [],
   "source": [
    "big_mart_data.head()"
   ]
  },
  {
   "cell_type": "markdown",
   "id": "5a081a9e",
   "metadata": {},
   "source": [
    "Spliting Features and Target"
   ]
  },
  {
   "cell_type": "code",
   "execution_count": null,
   "id": "fb95f4c4",
   "metadata": {},
   "outputs": [],
   "source": [
    "X = big_mart_data.drop(columns = ['Item_Outlet_Sales'], axis = 1)\n",
    "Y = big_mart_data['Item_Outlet_Sales']"
   ]
  },
  {
   "cell_type": "code",
   "execution_count": null,
   "id": "7c9e1840",
   "metadata": {},
   "outputs": [],
   "source": [
    "print(X)"
   ]
  },
  {
   "cell_type": "code",
   "execution_count": null,
   "id": "60cfa526",
   "metadata": {},
   "outputs": [],
   "source": [
    "print(Y)"
   ]
  },
  {
   "cell_type": "markdown",
   "id": "152d0a18",
   "metadata": {},
   "source": [
    "Splitting The Data Into Traning and Testing Data"
   ]
  },
  {
   "cell_type": "code",
   "execution_count": null,
   "id": "9ea825a4",
   "metadata": {},
   "outputs": [],
   "source": [
    "X_train, X_test, Y_train, Y_test = train_test_split(X, Y, test_size = 0.2, random_state = 42)"
   ]
  },
  {
   "cell_type": "code",
   "execution_count": null,
   "id": "6f2bc234",
   "metadata": {},
   "outputs": [],
   "source": [
    "print(X.shape, X_train.shape, X_test.shape)"
   ]
  },
  {
   "cell_type": "markdown",
   "id": "497dc2dd",
   "metadata": {},
   "source": [
    "Machine Learning Model Traning"
   ]
  },
  {
   "cell_type": "code",
   "execution_count": null,
   "id": "55420922",
   "metadata": {},
   "outputs": [],
   "source": [
    "regressor = XGBRegressor()"
   ]
  },
  {
   "cell_type": "code",
   "execution_count": null,
   "id": "f798ebb3",
   "metadata": {},
   "outputs": [],
   "source": [
    "regressor.fit(X_train, Y_train)"
   ]
  },
  {
   "cell_type": "markdown",
   "id": "bc07d90a",
   "metadata": {},
   "source": [
    "Evaluation"
   ]
  },
  {
   "cell_type": "code",
   "execution_count": null,
   "id": "b9c464b4",
   "metadata": {},
   "outputs": [],
   "source": [
    "# Prediction on training data\n",
    "training_data_prediction = regressor.predict(X_train)"
   ]
  },
  {
   "cell_type": "code",
   "execution_count": null,
   "id": "c743c494",
   "metadata": {},
   "outputs": [],
   "source": [
    "# R squared value\n",
    "r2_train = metrics.r2_score(Y_train, training_data_prediction)\n",
    "print(\"R squared value for training data: \", r2_train)"
   ]
  },
  {
   "cell_type": "code",
   "execution_count": null,
   "id": "385531a9",
   "metadata": {},
   "outputs": [],
   "source": [
    "# Prediction on test data\n",
    "test_data_prediction = regressor.predict(X_test)"
   ]
  },
  {
   "cell_type": "code",
   "execution_count": null,
   "id": "5c11ea6a",
   "metadata": {},
   "outputs": [],
   "source": [
    "# R squared value\n",
    "r2_test = metrics.r2_score(Y_test, test_data_prediction)\n",
    "print(\"R squared value for test data: \", r2_test)"
   ]
  },
  {
   "cell_type": "code",
   "execution_count": null,
   "id": "9def44e7",
   "metadata": {},
   "outputs": [],
   "source": [
    "# Get a single row from the test set\n",
    "sample_input = X_test.iloc[0]\n",
    "\n",
    "# Reshape for prediction (1 sample, n features)\n",
    "sample_input_reshaped = sample_input.values.reshape(1, -1)\n",
    "\n",
    "# Predict using trained model\n",
    "predicted_sales = regressor.predict(sample_input_reshaped)\n",
    "\n",
    "print(\"Sample Input (from test set):\")\n",
    "print(sample_input)\n",
    "print(\"\\nPredicted Sales:\", predicted_sales[0])\n"
   ]
  },
  {
   "cell_type": "code",
   "execution_count": null,
   "id": "d28cd472",
   "metadata": {},
   "outputs": [],
   "source": [
    "# Manually define a new sample input\n",
    "manual_input = np.array([[157,      # Item_Identifier \n",
    "                          12.5,     # Item_Weight\n",
    "                          0,        # Item_Fat_Content \n",
    "                          0.05,     # Item_Visibility\n",
    "                          10,       # Item_Type \n",
    "                          200.0,    # Item_MRP\n",
    "                          2,        # Outlet_Identifier \n",
    "                          1999,     # Outlet_Establishment_Year\n",
    "                          1,        # Outlet_Size \n",
    "                          1,        # Outlet_Location_Type \n",
    "                          0]])      # Outlet_Type \n",
    "\n",
    "# Predict using the trained model\n",
    "predicted_sales_manual = regressor.predict(manual_input)\n",
    "\n",
    "print(\"Predicted Sales for Manual Input:\", predicted_sales_manual[0])\n"
   ]
  }
 ],
 "metadata": {
  "kernelspec": {
   "display_name": "BMenv",
   "language": "python",
   "name": "python3"
  },
  "language_info": {
   "codemirror_mode": {
    "name": "ipython",
    "version": 3
   },
   "file_extension": ".py",
   "mimetype": "text/x-python",
   "name": "python",
   "nbconvert_exporter": "python",
   "pygments_lexer": "ipython3",
   "version": "3.12.7"
  }
 },
 "nbformat": 4,
 "nbformat_minor": 5
}
